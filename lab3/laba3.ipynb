{
 "cells": [
  {
   "cell_type": "code",
   "execution_count": 19,
   "metadata": {},
   "outputs": [],
   "source": [
    "import pandas as pd\n",
    "import numpy as np\n",
    "import matplotlib.pyplot as plt\n",
    "from sklearn.model_selection import train_test_split\n",
    "from sklearn.feature_selection import mutual_info_classif\n",
    "from sklearn.preprocessing import OneHotEncoder\n",
    "from sklearn.linear_model import LogisticRegression\n",
    "from sklearn.metrics import accuracy_score\n",
    "from sklearn.preprocessing import StandardScaler\n",
    "np.random.seed(42)"
   ]
  },
  {
   "cell_type": "code",
   "execution_count": 20,
   "metadata": {},
   "outputs": [
    {
     "name": "stdout",
     "output_type": "stream",
     "text": [
      "   age           job  marital  education default  balance housing loan  \\\n",
      "0   58    management  married   tertiary      no     2143     yes   no   \n",
      "1   44    technician   single  secondary      no       29     yes   no   \n",
      "2   33  entrepreneur  married  secondary      no        2     yes  yes   \n",
      "3   47   blue-collar  married    unknown      no     1506     yes   no   \n",
      "4   33       unknown   single    unknown      no        1      no   no   \n",
      "\n",
      "   contact  day month  duration  campaign  pdays  previous poutcome   y  \n",
      "0  unknown    5   may       261         1     -1         0  unknown  no  \n",
      "1  unknown    5   may       151         1     -1         0  unknown  no  \n",
      "2  unknown    5   may        76         1     -1         0  unknown  no  \n",
      "3  unknown    5   may        92         1     -1         0  unknown  no  \n",
      "4  unknown    5   may       198         1     -1         0  unknown  no  \n"
     ]
    }
   ],
   "source": [
    "\n",
    "df = pd.read_csv('bank-full.csv', sep=';')\n",
    "print(df.head())"
   ]
  },
  {
   "cell_type": "code",
   "execution_count": 21,
   "metadata": {},
   "outputs": [
    {
     "name": "stdout",
     "output_type": "stream",
     "text": [
      "Missing values: \n",
      " age          0\n",
      "job          0\n",
      "marital      0\n",
      "education    0\n",
      "default      0\n",
      "balance      0\n",
      "housing      0\n",
      "loan         0\n",
      "contact      0\n",
      "day          0\n",
      "month        0\n",
      "duration     0\n",
      "campaign     0\n",
      "pdays        0\n",
      "previous     0\n",
      "poutcome     0\n",
      "y            0\n",
      "dtype: int64\n"
     ]
    }
   ],
   "source": [
    "missing_values = df.isnull().sum()\n",
    "print('Missing values: \\n', missing_values)"
   ]
  },
  {
   "cell_type": "code",
   "execution_count": 22,
   "metadata": {},
   "outputs": [
    {
     "name": "stdout",
     "output_type": "stream",
     "text": [
      "   age           job  education  balance housing  day month  duration  pdays  \\\n",
      "0   58    management   tertiary     2143     yes    5   may       261     -1   \n",
      "1   44    technician  secondary       29     yes    5   may       151     -1   \n",
      "2   33  entrepreneur  secondary        2     yes    5   may        76     -1   \n",
      "3   47   blue-collar    unknown     1506     yes    5   may        92     -1   \n",
      "4   33       unknown    unknown        1      no    5   may       198     -1   \n",
      "\n",
      "   previous poutcome   y  \n",
      "0         0  unknown  no  \n",
      "1         0  unknown  no  \n",
      "2         0  unknown  no  \n",
      "3         0  unknown  no  \n",
      "4         0  unknown  no  \n"
     ]
    }
   ],
   "source": [
    "colomns_to_use = ['age', 'job',  'education', 'balance', 'housing', 'day', 'month', 'duration', 'pdays', 'previous', 'poutcome', 'y']\n",
    "df = df[colomns_to_use]\n",
    "print(df.head())"
   ]
  },
  {
   "cell_type": "code",
   "execution_count": 23,
   "metadata": {},
   "outputs": [
    {
     "name": "stdout",
     "output_type": "stream",
     "text": [
      "y\n",
      "0    39922\n",
      "1     5289\n",
      "Name: count, dtype: int64\n"
     ]
    }
   ],
   "source": [
    "df['y'] = df['y'].map({'yes': 1, 'no': 0})\n",
    "print(df['y'].value_counts())"
   ]
  },
  {
   "cell_type": "code",
   "execution_count": 24,
   "metadata": {},
   "outputs": [
    {
     "name": "stdout",
     "output_type": "stream",
     "text": [
      "Train data: (27126, 12)\n",
      "Validation data: (9042, 12)\n",
      "Test data: (9043, 12)\n"
     ]
    }
   ],
   "source": [
    "train_data, temp_data = train_test_split(df, test_size=0.4, random_state=42)\n",
    "valid_data, test_data = train_test_split(temp_data, test_size=0.5, random_state=42)\n",
    "\n",
    "print(f'Train data: {train_data.shape}')\n",
    "print(f'Validation data: {valid_data.shape}')\n",
    "print(f'Test data: {test_data.shape}')"
   ]
  },
  {
   "cell_type": "code",
   "execution_count": 25,
   "metadata": {},
   "outputs": [
    {
     "name": "stdout",
     "output_type": "stream",
     "text": [
      "       age  balance  day month  duration  pdays  previous  job_admin.  \\\n",
      "6377    45     -100   27   may       240     -1         0       False   \n",
      "17236   29      166   28   jul       108     -1         0       False   \n",
      "4490    31      121   20   may       187     -1         0        True   \n",
      "24231   40     1693   17   nov       353     -1         0       False   \n",
      "3978    28      317   16   may        21     -1         0       False   \n",
      "\n",
      "       job_blue-collar  job_entrepreneur  ...  education_primary  \\\n",
      "6377             False              True  ...               True   \n",
      "17236            False             False  ...              False   \n",
      "4490             False             False  ...              False   \n",
      "24231            False             False  ...              False   \n",
      "3978             False             False  ...              False   \n",
      "\n",
      "       education_secondary  education_tertiary  education_unknown  housing_no  \\\n",
      "6377                 False               False              False       False   \n",
      "17236                 True               False              False        True   \n",
      "4490                  True               False              False       False   \n",
      "24231                False                True              False       False   \n",
      "3978                  True               False              False       False   \n",
      "\n",
      "       housing_yes  poutcome_failure  poutcome_other  poutcome_success  \\\n",
      "6377          True             False           False             False   \n",
      "17236        False             False           False             False   \n",
      "4490          True             False           False             False   \n",
      "24231         True             False           False             False   \n",
      "3978          True             False           False             False   \n",
      "\n",
      "       poutcome_unknown  \n",
      "6377               True  \n",
      "17236              True  \n",
      "4490               True  \n",
      "24231              True  \n",
      "3978               True  \n",
      "\n",
      "[5 rows x 29 columns]\n"
     ]
    }
   ],
   "source": [
    "categorical_colomns = ['job', 'education', 'housing', 'poutcome']\n",
    "X_train = pd.get_dummies(train_data.drop('y', axis = 1), columns=categorical_colomns)\n",
    "y_train = train_data['y']\n",
    "\n",
    "X_valid = pd.get_dummies(valid_data.drop('y', axis = 1), columns=categorical_colomns)\n",
    "y_valid = valid_data['y']\n",
    "\n",
    "print(X_train.head())"
   ]
  },
  {
   "cell_type": "code",
   "execution_count": 31,
   "metadata": {},
   "outputs": [
    {
     "name": "stdout",
     "output_type": "stream",
     "text": [
      "                job  education housing poutcome\n",
      "0        management   tertiary     yes  unknown\n",
      "1        technician  secondary     yes  unknown\n",
      "2      entrepreneur  secondary     yes  unknown\n",
      "3       blue-collar    unknown     yes  unknown\n",
      "4           unknown    unknown      no  unknown\n",
      "...             ...        ...     ...      ...\n",
      "45206    technician   tertiary      no  unknown\n",
      "45207       retired    primary      no  unknown\n",
      "45208       retired  secondary      no  success\n",
      "45209   blue-collar  secondary      no  unknown\n",
      "45210  entrepreneur  secondary      no    other\n",
      "\n",
      "[45211 rows x 4 columns]\n"
     ]
    },
    {
     "ename": "NameError",
     "evalue": "name 'X_numeric_scaler' is not defined",
     "output_type": "error",
     "traceback": [
      "\u001b[1;31m---------------------------------------------------------------------------\u001b[0m",
      "\u001b[1;31mNameError\u001b[0m                                 Traceback (most recent call last)",
      "Cell \u001b[1;32mIn[31], line 8\u001b[0m\n\u001b[0;32m      6\u001b[0m scaler \u001b[38;5;241m=\u001b[39m StandardScaler()\n\u001b[0;32m      7\u001b[0m \u001b[38;5;124;03m\"\"\"X_numeric_scaler = scaler.fit_transform(X_numeric)\"\"\"\u001b[39;00m\n\u001b[1;32m----> 8\u001b[0m X_final_scaled \u001b[38;5;241m=\u001b[39m np\u001b[38;5;241m.\u001b[39mhstack((X_numeric_scaler, X_encoded))\n\u001b[0;32m     10\u001b[0m X_train, X_test, y_train, y_test \u001b[38;5;241m=\u001b[39m train_test_split(X_final_scaled, y, test_size\u001b[38;5;241m=\u001b[39m\u001b[38;5;241m0.2\u001b[39m, random_state\u001b[38;5;241m=\u001b[39m\u001b[38;5;241m42\u001b[39m)\n\u001b[0;32m     12\u001b[0m model \u001b[38;5;241m=\u001b[39m LogisticRegression(max_iter\u001b[38;5;241m=\u001b[39m\u001b[38;5;241m5000\u001b[39m)\n",
      "\u001b[1;31mNameError\u001b[0m: name 'X_numeric_scaler' is not defined"
     ]
    }
   ],
   "source": [
    "cat_cols = X.select_dtypes(include=['object']).columns\n",
    "encoder = OneHotEncoder(sparse_output=False, drop='first')\n",
    "X_encoded = encoder.fit_transform(X[cat_cols])\n",
    "X_numeric = df[['job', 'education', 'housing', 'poutcome']]\n",
    "print(X_numeric)\n",
    "scaler = StandardScaler()\n",
    "\"\"\"X_numeric_scaler = scaler.fit_transform(X_numeric)\"\"\"\n",
    "X_final_scaled = np.hstack((X_numeric_scaler, X_encoded))\n",
    "\n",
    "X_train, X_test, y_train, y_test = train_test_split(X_final_scaled, y, test_size=0.2, random_state=42)\n",
    "\n",
    "model = LogisticRegression(max_iter=5000)\n",
    "model.fit(X_train, y_train)\n",
    "\n",
    "y_predict = model.predict(X_test)\n",
    "accur = accuracy_score(y_test, y_predict)\n",
    "print(f'Value of accuracy: {accur:.3f}')"
   ]
  },
  {
   "cell_type": "code",
   "execution_count": null,
   "metadata": {},
   "outputs": [
    {
     "name": "stdout",
     "output_type": "stream",
     "text": [
      "                  Mutual info\n",
      "y                    0.359282\n",
      "duration             0.070835\n",
      "pdays                0.026445\n",
      "poutcome_success     0.026112\n",
      "poutcome_unknown     0.021006\n"
     ]
    }
   ],
   "source": [
    "X = df[colomns_to_use]\n",
    "y = df['y']\n",
    "cat_cols = X.select_dtypes(include=['object']).columns\n",
    "encoder = OneHotEncoder(sparse_output=False, drop='first')\n",
    "X_encoded = encoder.fit_transform(X[cat_cols])\n",
    "feature_names = encoder.get_feature_names_out(cat_cols)\n",
    "\n",
    "X_train_df = pd.DataFrame(X_encoded, columns=feature_names)\n",
    "numeric_cols = X.select_dtypes(include=['number']).columns\n",
    "X_train_df = pd.concat([X_train_df,X[numeric_cols].reset_index(drop=True)], axis = 1)\n",
    "\n",
    "X_train, X_test, y_train, y_test = train_test_split(X_train_df, y, test_size=0.2, random_state=42)\n",
    "\n",
    "mutual_info = mutual_info_classif(X_train, y_train)\n",
    "mutual_info_df = pd.DataFrame(mutual_info, index = X_train.columns, columns=['Mutual info']).sort_values(by = 'Mutual info', ascending = False)\n",
    "\n",
    "print(mutual_info_df.head())"
   ]
  }
 ],
 "metadata": {
  "kernelspec": {
   "display_name": "base",
   "language": "python",
   "name": "python3"
  },
  "language_info": {
   "codemirror_mode": {
    "name": "ipython",
    "version": 3
   },
   "file_extension": ".py",
   "mimetype": "text/x-python",
   "name": "python",
   "nbconvert_exporter": "python",
   "pygments_lexer": "ipython3",
   "version": "3.12.4"
  }
 },
 "nbformat": 4,
 "nbformat_minor": 2
}
