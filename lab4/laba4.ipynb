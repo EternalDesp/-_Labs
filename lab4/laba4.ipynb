{
 "cells": [
  {
   "cell_type": "code",
   "execution_count": 2,
   "metadata": {},
   "outputs": [],
   "source": [
    "import pandas as pd\n",
    "import numpy as np\n",
    "import matplotlib.pyplot as plt\n",
    "from sklearn.model_selection import train_test_split\n",
    "from sklearn.feature_selection import mutual_info_classif\n",
    "from sklearn.preprocessing import OneHotEncoder\n",
    "from sklearn.linear_model import LogisticRegression\n",
    "from sklearn.metrics import accuracy_score\n",
    "\n",
    "# Устанавливаем случайное зерно для воспроизводимости\n",
    "np.random.seed(42)"
   ]
  },
  {
   "cell_type": "code",
   "execution_count": 3,
   "metadata": {},
   "outputs": [
    {
     "name": "stdout",
     "output_type": "stream",
     "text": [
      "   age           job  marital  education default  balance housing loan  \\\n",
      "0   58    management  married   tertiary      no     2143     yes   no   \n",
      "1   44    technician   single  secondary      no       29     yes   no   \n",
      "2   33  entrepreneur  married  secondary      no        2     yes  yes   \n",
      "3   47   blue-collar  married    unknown      no     1506     yes   no   \n",
      "4   33       unknown   single    unknown      no        1      no   no   \n",
      "\n",
      "   contact  day month  duration  campaign  pdays  previous poutcome   y  \n",
      "0  unknown    5   may       261         1     -1         0  unknown  no  \n",
      "1  unknown    5   may       151         1     -1         0  unknown  no  \n",
      "2  unknown    5   may        76         1     -1         0  unknown  no  \n",
      "3  unknown    5   may        92         1     -1         0  unknown  no  \n",
      "4  unknown    5   may       198         1     -1         0  unknown  no  \n"
     ]
    }
   ],
   "source": [
    "df = pd.read_csv('bank-full.csv', sep=';')\n",
    "print(df.head())"
   ]
  },
  {
   "cell_type": "code",
   "execution_count": null,
   "metadata": {},
   "outputs": [
    {
     "name": "stdout",
     "output_type": "stream",
     "text": [
      "Обучающая выборка: (33908, 17)\n",
      "Валидационная выборка: (5651, 17)\n",
      "Тестовая выборка: (5652, 17)\n"
     ]
    }
   ],
   "source": [
    "import pandas as pd\n",
    "from sklearn.model_selection import train_test_split\n",
    "\n",
    "\n",
    "columns = ['age', 'job', 'marital', 'education', 'default', 'balance', 'housing', 'loan', 'contact', 'day', 'month', 'duration', 'campaign', 'pdays', 'previous', 'poutcome', 'y']\n",
    "df = df[columns]\n",
    "\n",
    "\n",
    "df_train, df_temp = train_test_split(df, test_size=0.25, random_state=1)\n",
    "df_val, df_test = train_test_split(df_temp, test_size=0.5, random_state=1)\n",
    "\n",
    "\n",
    "print(f'Обучающая выборка: {df_train.shape}')\n",
    "print(f'Валидационная выборка: {df_val.shape}')\n",
    "print(f'Тестовая выборка: {df_test.shape}')"
   ]
  },
  {
   "cell_type": "code",
   "execution_count": 18,
   "metadata": {},
   "outputs": [
    {
     "name": "stdout",
     "output_type": "stream",
     "text": [
      "AUC для каждого признака {'balance': 0.5925039928796861, 'day': 0.5271368188970291, 'duration': 0.8117171432689722, 'campaign': 0.5747113529307714}\n"
     ]
    }
   ],
   "source": [
    "from sklearn.metrics import roc_auc_score\n",
    "\n",
    "\n",
    "numeric_columns = ['balance', 'day', 'duration', 'campaign']\n",
    "auc_scores = {}\n",
    "\n",
    "\n",
    "for column in numeric_columns:\n",
    "    auc = roc_auc_score(df_train['y'], df_train[column])\n",
    "    if auc < 0.5:\n",
    "        auc = roc_auc_score(df_train['y'], -df_train[column])\n",
    "    auc_scores[column] = auc\n",
    "print('AUC для каждого признака', auc_scores)"
   ]
  },
  {
   "cell_type": "code",
   "execution_count": 21,
   "metadata": {},
   "outputs": [
    {
     "name": "stdout",
     "output_type": "stream",
     "text": [
      "AUC на валидационной выборке: 1.000\n"
     ]
    }
   ],
   "source": [
    "from sklearn.feature_extraction import DictVectorizer\n",
    "from sklearn.linear_model import LogisticRegression\n",
    "from sklearn.metrics import roc_auc_score\n",
    "\n",
    "\n",
    "train_dict = df_train.to_dict(orient='records')\n",
    "val_dict = df_val.to_dict(orient='records')\n",
    "\n",
    "dv = DictVectorizer(sparse=False)\n",
    "X_train = dv.fit_transform(train_dict)\n",
    "X_val = dv.transform(val_dict)\n",
    "\n",
    "y_train = df_train['y'].values\n",
    "y_val = df_val['y'].values\n",
    "\n",
    "\n",
    "model = LogisticRegression(solver='liblinear', C=1.0, max_iter=1000)\n",
    "model.fit(X_train, y_train)\n",
    "\n",
    "# AUC на валидационной выборке\n",
    "y_pred = model.predict_proba(X_val)[:, 1]\n",
    "auc = roc_auc_score(y_val, y_pred)\n",
    "print(f\"AUC на валидационной выборке: {auc:.3f}\")"
   ]
  },
  {
   "cell_type": "code",
   "execution_count": 22,
   "metadata": {},
   "outputs": [],
   "source": [
    "df_train['y'] = df_train['y'].apply(lambda x: 1 if x == 'yes' else 0)\n",
    "df_val['y'] = df_val['y'].apply(lambda x: 1 if x == 'yes' else 0)\n",
    "y_train = df_train['y'].values\n",
    "y_val = df_val['y'].values"
   ]
  },
  {
   "cell_type": "code",
   "execution_count": 23,
   "metadata": {},
   "outputs": [
    {
     "name": "stderr",
     "output_type": "stream",
     "text": [
      "c:\\Users\\ACER\\anaconda3\\Lib\\site-packages\\sklearn\\metrics\\_classification.py:1509: UndefinedMetricWarning: Precision is ill-defined and being set to 0.0 due to no predicted samples. Use `zero_division` parameter to control this behavior.\n",
      "  _warn_prf(average, modifier, f\"{metric.capitalize()} is\", len(result))\n"
     ]
    },
    {
     "data": {
      "image/png": "[encoded data removed]",
      "text/plain": [
       "<Figure size 640x480 with 1 Axes>"
      ]
     },
     "metadata": {},
     "output_type": "display_data"
    },
    {
     "name": "stdout",
     "output_type": "stream",
     "text": [
      "Порог, на котором пересекаются Precision и Recall: 0.01\n"
     ]
    }
   ],
   "source": [
    "import numpy as np\n",
    "import matplotlib.pyplot as plt\n",
    "from sklearn.metrics import precision_score, recall_score\n",
    "\n",
    "thresholds = np.arange(0.0, 1.01, 0.01)\n",
    "precision_scores = []\n",
    "recall_scores = []\n",
    "\n",
    "for threshold in thresholds:\n",
    "    y_pred_threshold = (y_pred >= threshold).astype(int)\n",
    "    precision_scores.append(precision_score(y_val, y_pred_threshold))\n",
    "    recall_scores.append(recall_score(y_val, y_pred_threshold))\n",
    "\n",
    "plt.plot(thresholds, precision_scores, label='Precision')\n",
    "plt.plot(thresholds, recall_scores, label='Recall')\n",
    "plt.xlabel('Threshold')\n",
    "plt.legend()\n",
    "plt.show()\n",
    "\n",
    "# Найдем порог пересечения\n",
    "crossing_threshold = thresholds[np.argmin(np.abs(np.array(precision_scores) - np.array(recall_scores)))]\n",
    "print(f\"Порог, на котором пересекаются Precision и Recall: {crossing_threshold}\")"
   ]
  },
  {
   "cell_type": "code",
   "execution_count": 24,
   "metadata": {},
   "outputs": [
    {
     "name": "stdout",
     "output_type": "stream",
     "text": [
      "Максимум F1 score достигается при пороге: 0.01\n"
     ]
    }
   ],
   "source": [
    "from sklearn.metrics import f1_score\n",
    "\n",
    "f1_scores = [f1_score(y_val, (y_pred >= t).astype(int)) for t in thresholds]\n",
    "best_threshold = thresholds[np.argmax(f1_scores)]\n",
    "print(f\"Максимум F1 score достигается при пороге: {best_threshold}\")"
   ]
  },
  {
   "cell_type": "code",
   "execution_count": 25,
   "metadata": {},
   "outputs": [
    {
     "name": "stdout",
     "output_type": "stream",
     "text": [
      "C=1e-06 - Средний AUC: 0.702, Стандартное отклонение: 0.010\n",
      "C=0.001 - Средний AUC: 0.998, Стандартное отклонение: 0.001\n",
      "C=1 - Средний AUC: 1.000, Стандартное отклонение: 0.000\n",
      "Лучшее значение C: 1\n"
     ]
    }
   ],
   "source": [
    "from sklearn.model_selection import KFold\n",
    "from sklearn.linear_model import LogisticRegression\n",
    "import numpy as np\n",
    "\n",
    "kf = KFold(n_splits=5, shuffle=True, random_state=1)\n",
    "C_values = [0.000001, 0.001, 1]\n",
    "best_C = None\n",
    "best_mean_auc = 0\n",
    "\n",
    "for C in C_values:\n",
    "    aucs = []\n",
    "    model = LogisticRegression(solver='liblinear', C=C, max_iter=1000)\n",
    "    for train_idx, val_idx in kf.split(df_train):\n",
    "        X_fold_train, X_fold_val = X_train[train_idx], X_train[val_idx]\n",
    "        y_fold_train, y_fold_val = y_train[train_idx], y_train[val_idx]\n",
    "        \n",
    "        model.fit(X_fold_train, y_fold_train)\n",
    "        y_pred_fold = model.predict_proba(X_fold_val)[:, 1]\n",
    "        aucs.append(roc_auc_score(y_fold_val, y_pred_fold))\n",
    "    \n",
    "    mean_auc = np.mean(aucs)\n",
    "    std_auc = np.std(aucs)\n",
    "    \n",
    "    print(f\"C={C} - Средний AUC: {mean_auc:.3f}, Стандартное отклонение: {std_auc:.3f}\")\n",
    "    \n",
    "    if mean_auc > best_mean_auc:\n",
    "        best_C = C\n",
    "        best_mean_auc = mean_auc\n",
    "\n",
    "print(f\"Лучшее значение C: {best_C}\")"
   ]
  },
  {
   "cell_type": "markdown",
   "metadata": {},
   "source": [
    "1. Ответ: duration\n",
    "2. Ответ: 1.000\n",
    "3. Ответ: 0.01\n",
    "4. Ответ: 0.01\n",
    "5. Ответ: для C = 10^-6 - ошибка = 0.010, для C = 10^-3 - ошибка = 0.001, для C = 1, ошибка = 0\n",
    "6. Ответ: при С = 1."
   ]
  }
 ],
 "metadata": {
  "kernelspec": {
   "display_name": "base",
   "language": "python",
   "name": "python3"
  },
  "language_info": {
   "codemirror_mode": {
    "name": "ipython",
    "version": 3
   },
   "file_extension": ".py",
   "mimetype": "text/x-python",
   "name": "python",
   "nbconvert_exporter": "python",
   "pygments_lexer": "ipython3",
   "version": "3.12.4"
  }
 },
 "nbformat": 4,
 "nbformat_minor": 2
}
